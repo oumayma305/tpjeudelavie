{
 "cells": [
  {
   "cell_type": "markdown",
   "metadata": {},
   "source": [
    "# TP N°1:                                                      Le  Jeu de la vie.\n"
   ]
  },
  {
   "cell_type": "markdown",
   "metadata": {},
   "source": [
    "##  KHALIFI OUMAYMA M1 MIND."
   ]
  },
  {
   "cell_type": "markdown",
   "metadata": {},
   "source": [
    "### **EXERCICE 1:**"
   ]
  },
  {
   "cell_type": "code",
   "execution_count": 1,
   "metadata": {},
   "outputs": [
    {
     "name": "stdout",
     "output_type": "stream",
     "text": [
      "1. La chaine de cactères filename correspondant au nom de mon fichier est: HMMA238_TP_oumaymakhalifi.ipynb.\n",
      "2. Le nombre de caractère dans la chaine de caractère filname est 31.\n",
      "3. ma graine est 1.\n"
     ]
    }
   ],
   "source": [
    "filename=\"HMMA238_TP_oumaymakhalifi.ipynb\"\n",
    "print(\"1. La chaine de cactères filename correspondant au nom de mon fichier est: {}.\" .format(filename))\n",
    "taille_str=len(filename)\n",
    "print(\"2. Le nombre de caractère dans la chaine de caractère filname est {}.\" .format(taille_str))\n",
    "ma_graine=taille_str%6\n",
    "print(\"3. ma graine est {}.\". format(ma_graine))"
   ]
  },
  {
   "cell_type": "markdown",
   "metadata": {},
   "source": [
    " ### __***Données à retenir pour la suite de l'exercice:***__\n",
    " 1. Le pourtour de la grille est toujours mort.\n",
    " 2. chaque cellule intéragit avec ses huit cellules voisins.\n",
    " 3. ### vivant:1                  et                                     mort: 0\n",
    " 4. - ***naissance***: toute cellule morte ayant exactement 3 voisins vivants devient une cellule vivante.\n",
    "    - ***équilibre***: toute cellule vivante avec 2 ou 3 voisins vivants reste vivante à la génération suivante.\n",
    "    - ***mort par étouffement***: toute cellule vivante ayant 4 voisins vivants meurt à la génération suivante.\n",
    "    - ***mort par isolement***: toute cellule vivante ayant 0 ou 1 voisin vivant décède dà la génération suivante. "
   ]
  },
  {
   "cell_type": "markdown",
   "metadata": {},
   "source": [
    "#  ***Implémentation sans numpy:***"
   ]
  },
  {
   "cell_type": "code",
   "execution_count": 2,
   "metadata": {},
   "outputs": [],
   "source": [
    "%matplotlib inline"
   ]
  },
  {
   "cell_type": "code",
   "execution_count": 3,
   "metadata": {},
   "outputs": [],
   "source": [
    "def calcul_nb_voisins(Z):\n",
    "    forme = len(Z), len(Z[0])\n",
    "    N = [[0, ] * (forme[0]) for i in range(forme[1])]\n",
    "    for x in range(1, forme[0] - 1):\n",
    "        for y in range(1, forme[1] - 1):\n",
    "            N[x][y] = Z[x-1][y-1]+Z[x][y-1]+Z[x+1][y-1] \\\n",
    "             + Z[x-1][y] + 0+Z[x+1][y] \\\n",
    "            + Z[x-1][y+1]+Z[x][y+1]+Z[x+1][y+1]\n",
    "    return N"
   ]
  },
  {
   "cell_type": "code",
   "execution_count": 4,
   "metadata": {},
   "outputs": [],
   "source": [
    "Z = [[0,0,0,0,0,0],\n",
    "    [0,0,0,1,0,0],\n",
    "    [0,1,0,1,0,0],\n",
    "    [0,0,1,1,0,0],\n",
    "    [0,0,0,0,0,0],\n",
    "    [0,0,0,0,0,0]]"
   ]
  },
  {
   "cell_type": "code",
   "execution_count": 5,
   "metadata": {},
   "outputs": [
    {
     "data": {
      "text/plain": [
       "[[0, 0, 0, 0, 0, 0],\n",
       " [0, 1, 3, 1, 2, 0],\n",
       " [0, 1, 5, 3, 3, 0],\n",
       " [0, 2, 3, 2, 2, 0],\n",
       " [0, 1, 2, 2, 1, 0],\n",
       " [0, 0, 0, 0, 0, 0]]"
      ]
     },
     "execution_count": 5,
     "metadata": {},
     "output_type": "execute_result"
    }
   ],
   "source": [
    "N=calcul_nb_voisins(Z)\n",
    "N\n"
   ]
  },
  {
   "cell_type": "markdown",
   "metadata": {},
   "source": [
    "calcul_nb_voisins: calcul le nombre de voisins de chaque cellule sans prendre en compte le pourtour de la grille car il est toujours considéré inactif.\n",
    "Exemple: Prenant par exemple l'élément de la troiscième ligne et la quatrième colonne de Z c'est à dire Z[2,3]=1, regardant maintnant ses voisins: Z[1,2]=0  Z[1,3]=1  Z[1,4]=0  Z[2,2]=0  Z[2,4]=0  Z[3,2]=1  Z[3,3]=1 et  Z[3,4]=0 \n",
    "Donc la cellule Z[2,3] a 3 voisins vivants Z[1,3], Z[3,2] et Z[3,3], passant maintenant à la matrice N, on constate que N[2,3]=3.\n",
    "donc on déduit que N calcul le nombre de voisins de Z, c'est à dire la somme des voisins vivants de la cellule en question, dans notre exemple on a: N[2,3]=Z[1,3]+Z[3,2]+Z[3,3]=1+1+1=3.\n",
    "\n"
   ]
  },
  {
   "cell_type": "code",
   "execution_count": 6,
   "metadata": {},
   "outputs": [],
   "source": [
    "def iteration_jeu(Z):\n",
    "    forme = len(Z), len(Z[0])\n",
    "    N = calcul_nb_voisins(Z)\n",
    "    for x in range(1,forme[0]-1):\n",
    "        for y in range(1,forme[1]-1):\n",
    "            if Z[x][y] == 1 and (N[x][y] < 2 or N[x][y] > 3):\n",
    "                Z[x][y] = 0\n",
    "            elif Z[x][y] == 0 and N[x][y] == 3:\n",
    "                Z[x][y] = 1\n",
    "    return Z"
   ]
  },
  {
   "cell_type": "code",
   "execution_count": 7,
   "metadata": {},
   "outputs": [
    {
     "data": {
      "text/plain": [
       "[[0, 0, 0, 0, 0, 0],\n",
       " [0, 0, 1, 0, 0, 0],\n",
       " [0, 0, 0, 1, 1, 0],\n",
       " [0, 0, 1, 1, 0, 0],\n",
       " [0, 0, 0, 0, 0, 0],\n",
       " [0, 0, 0, 0, 0, 0]]"
      ]
     },
     "execution_count": 7,
     "metadata": {},
     "output_type": "execute_result"
    }
   ],
   "source": [
    "N=iteration_jeu(Z)\n",
    "N"
   ]
  },
  {
   "cell_type": "markdown",
   "metadata": {},
   "source": [
    "Z[2,1]=1 :c'est une cellule vivante qui a un seul  voisin vivant Z[3,2] donc comme c'est indiqué dans les données, cette cellule va décèder à la génération suivante, on remarque que N[2,1]=0, donc elle représente bien la cellule de la génération d'après.\n",
    "Ce qui veut dire que Itération_jeu représente la  génération d'après.\n",
    "    "
   ]
  },
  {
   "cell_type": "code",
   "execution_count": 8,
   "metadata": {},
   "outputs": [],
   "source": [
    "import matplotlib.pyplot as plt\n",
    "def iterations(Z):\n",
    "    plt.subplots(figsize=(15,8))\n",
    "    for i in range(10):\n",
    "        ax = plt.subplot(2,5,i+1)\n",
    "        plt.imshow(Z, extent=[0,len(Z[0]),0,len(Z)])\n",
    "        plt.grid(True)\n",
    "        ax.set_xticks(range(0,len(Z[0]),1))\n",
    "        plt.title('Itération ' + str(i))\n",
    "        \n",
    "        Z = iteration_jeu(Z) \n",
    "        \n",
    "\n",
    "    plt.show()"
   ]
  },
  {
   "cell_type": "code",
   "execution_count": 9,
   "metadata": {},
   "outputs": [
    {
     "data": {
      "image/png": "[encoded data removed]",
      "text/plain": [
       "<Figure size 1080x576 with 10 Axes>"
      ]
     },
     "metadata": {
      "needs_background": "light"
     },
     "output_type": "display_data"
    }
   ],
   "source": [
    "iterations(Z)\n"
   ]
  },
  {
   "cell_type": "markdown",
   "metadata": {},
   "source": [
    " itération i: représente la génération i+1, par exxemple l'itération 0 est la première génération après l'état initial.\n",
    " On constate qu'entre l'itération 0 et l'itération 3, les cellules convergent vers le coté droit ,en bas du graphe,on remarque aussi qu'à partir de l'tération 6 les cellules vivantes en jaunes gardent la même structure tout au long des générations qui suivent, et les quatres cellules vivantes sont collées l'une à coté de l'autre, ce qui veut dire que pour chaque cellule vivante on a trois cellules vivantes voisines, chose qui explique la convergence vers la même cellule, car pour chaque cellule vivante ayant 3 voisins vivants reste vivante à la génération suivante.\n",
    " \n",
    " \n",
    " "
   ]
  },
  {
   "cell_type": "markdown",
   "metadata": {},
   "source": [
    "# ***Implémentation avec numpy:***"
   ]
  },
  {
   "cell_type": "code",
   "execution_count": 10,
   "metadata": {},
   "outputs": [],
   "source": [
    "import numpy as np\n",
    "vect = np.array([0,1,0,0,1,1])\n",
    "nb_vect = np.zeros(vect.shape)\n",
    "nb_vect[1:-1] += (vect[:-2] + vect[2:])"
   ]
  },
  {
   "cell_type": "code",
   "execution_count": 11,
   "metadata": {},
   "outputs": [
    {
     "data": {
      "text/plain": [
       "array([0., 0., 1., 1., 1., 0.])"
      ]
     },
     "execution_count": 11,
     "metadata": {},
     "output_type": "execute_result"
    }
   ],
   "source": [
    "nb_vect"
   ]
  },
  {
   "cell_type": "markdown",
   "metadata": {},
   "source": [
    "le nb_vect est un vecteur qui représente le nombre de voisins vivants de chaque cellule du vecteur ayant deux voisins, un à droite et l'autre à gauche, et on a le zéro toujours aux extrémités."
   ]
  },
  {
   "cell_type": "code",
   "execution_count": 12,
   "metadata": {},
   "outputs": [],
   "source": [
    "Z=np.asarray(Z)\n",
    "def calcul_nb_voisins_np(Z):\n",
    "    T= np.zeros_like(Z)\n",
    "    for i in range(1, Z.shape[0]-1):\n",
    "        for j in range(1, Z.shape[1]-1):\n",
    "            T[i,j]+=Z[i,j-1]+Z[i,j+1]+Z[i-1,j-1]+Z[i-1,j]+Z[i-1,j+1]+Z[i+1,j-1]+Z[i+1,j]+Z[i+1,j+1]\n",
    "    return T\n",
    "            \n",
    "\n",
    "   "
   ]
  },
  {
   "cell_type": "code",
   "execution_count": 13,
   "metadata": {},
   "outputs": [
    {
     "data": {
      "text/plain": [
       "array([[0, 0, 0, 0, 0, 0],\n",
       "       [0, 0, 0, 0, 0, 0],\n",
       "       [0, 0, 1, 2, 2, 0],\n",
       "       [0, 0, 2, 3, 3, 0],\n",
       "       [0, 0, 2, 3, 3, 0],\n",
       "       [0, 0, 0, 0, 0, 0]])"
      ]
     },
     "execution_count": 13,
     "metadata": {},
     "output_type": "execute_result"
    }
   ],
   "source": [
    "calcul_nb_voisins_np(Z)"
   ]
  },
  {
   "cell_type": "code",
   "execution_count": 14,
   "metadata": {},
   "outputs": [],
   "source": [
    "def iteration_jeu_np(Z):\n",
    "    # on affecte la matrice qui calcule le nombre de voisins à N.\n",
    "    N=calcul_nb_voisins_np(Z)\n",
    "    for i in range(1, Z.shape[0]-1):\n",
    "        for j in range(1, Z.shape[1]-1):\n",
    "            #Donne True si au moins un élément  est vrai. Faux est aussi donné dans le cas où c'est vide.\n",
    "            # toute cellule vivante avec 2 ou 3 voisins vivants reste  vivante à la génération suivante, donc toute cellule vivante qui n'a pas 2 ou 3 voisins vivants devient morte.\n",
    "            if (Z[i,j].any==1) and (N.any != 2 and N.any != 3):\n",
    "                Z[i,j]=0\n",
    "                # toute cellule morte ayant exactement 3 voisins vivants devient une cellule vivante.\n",
    "            elif Z[i,j].any==0 and N.any == 3:\n",
    "                Z[i,j]=1\n",
    "    return Z"
   ]
  },
  {
   "cell_type": "code",
   "execution_count": 15,
   "metadata": {},
   "outputs": [
    {
     "data": {
      "text/plain": [
       "array([[0, 0, 0, 0, 0, 0],\n",
       "       [0, 0, 0, 0, 0, 0],\n",
       "       [0, 0, 0, 0, 0, 0],\n",
       "       [0, 0, 0, 1, 1, 0],\n",
       "       [0, 0, 0, 1, 1, 0],\n",
       "       [0, 0, 0, 0, 0, 0]])"
      ]
     },
     "execution_count": 15,
     "metadata": {},
     "output_type": "execute_result"
    }
   ],
   "source": [
    "T=iteration_jeu_np(Z)\n",
    "T"
   ]
  },
  {
   "cell_type": "code",
   "execution_count": 16,
   "metadata": {},
   "outputs": [],
   "source": [
    "def jeu_np(Z_in, nb_iter):\n",
    "    Z_apres=np.array(Z_in)\n",
    "    for i in range (nb_iter):\n",
    "        Z_apres=iteration_jeu(Z_in)\n",
    "    return Z_apres"
   ]
  },
  {
   "cell_type": "code",
   "execution_count": 17,
   "metadata": {},
   "outputs": [
    {
     "name": "stdout",
     "output_type": "stream",
     "text": [
      "La matrice Z_in après la première itération est : [[0 0 0 0 0 0]\n",
      " [0 0 1 0 0 0]\n",
      " [0 0 0 1 1 0]\n",
      " [0 0 1 1 0 0]\n",
      " [0 0 0 0 0 0]\n",
      " [0 0 0 0 0 0]]\n",
      "La matrice Z_in après la deiscième itération est : [[0 0 0 0 0 0]\n",
      " [0 0 0 0 0 0]\n",
      " [0 0 1 0 1 0]\n",
      " [0 0 0 1 1 0]\n",
      " [0 0 0 1 0 0]\n",
      " [0 0 0 0 0 0]]\n"
     ]
    }
   ],
   "source": [
    "Z_in = np.array([[0,0,0,0,0,0],[0,0,0,1,0,0],[0,1,0,1,0,0],[0,0,1,1,0,0],[0,0,0,0,0,0], [0,0,0,0,0,0] ])\n",
    "A=jeu_np(Z_in, 1)\n",
    "print(\"La matrice Z_in après la première itération est : {}\" .format(A))\n",
    "B=jeu_np(Z_in,2)\n",
    "print(\"La matrice Z_in après la deiscième itération est : {}\" .format(B))\n"
   ]
  },
  {
   "cell_type": "code",
   "execution_count": 18,
   "metadata": {},
   "outputs": [],
   "source": [
    "Z_huge = np.zeros((100, 100)) \n",
    "Z_np = np.array( \n",
    "    [[0, 0, 0, 0, 0, 0], \n",
    "    [0, 0, 0, 1, 0, 0], \n",
    "     [0, 1, 0, 1, 0, 0], \n",
    "     [0, 0, 1, 1, 0, 0], \n",
    "     [0, 0, 0, 0, 0, 0], \n",
    "     [0, 0, 0, 0, 0, 0]]) \n",
    "Z_huge[10:16, 10:16] = Z_np\n"
   ]
  },
  {
   "cell_type": "code",
   "execution_count": 19,
   "metadata": {},
   "outputs": [
    {
     "data": {
      "text/plain": [
       "array([[0., 0., 0., 0., 0., 0.],\n",
       "       [0., 0., 0., 1., 0., 0.],\n",
       "       [0., 1., 0., 1., 0., 0.],\n",
       "       [0., 0., 1., 1., 0., 0.],\n",
       "       [0., 0., 0., 0., 0., 0.],\n",
       "       [0., 0., 0., 0., 0., 0.]])"
      ]
     },
     "execution_count": 19,
     "metadata": {},
     "output_type": "execute_result"
    }
   ],
   "source": [
    "Z_huge[10:16, 10:16] \n"
   ]
  },
  {
   "cell_type": "code",
   "execution_count": 20,
   "metadata": {},
   "outputs": [
    {
     "data": {
      "image/png": "[encoded data removed]",
      "text/plain": [
       "<Figure size 432x288 with 2 Axes>"
      ]
     },
     "metadata": {
      "needs_background": "light"
     },
     "output_type": "display_data"
    }
   ],
   "source": [
    "fig=plt.figure()\n",
    "A=plt.imshow(Z_huge)\n",
    "plt.colorbar()\n",
    "plt.show()"
   ]
  },
  {
   "cell_type": "code",
   "execution_count": 21,
   "metadata": {},
   "outputs": [
    {
     "data": {
      "image/png": "[encoded data removed]",
      "text/plain": [
       "<Figure size 432x288 with 2 Axes>"
      ]
     },
     "metadata": {
      "needs_background": "light"
     },
     "output_type": "display_data"
    }
   ],
   "source": [
    "Z_huge=np.zeros((100,100))\n",
    "Z=np.random.binomial( 1,(1 + ma_graine) * 10 / 100, size=(98,98))\n",
    "Z_huge[1:np.shape(Z_huge)[1]-1,1:np.shape(Z_huge)[1]-1]=Z\n",
    "fig=plt.figure()\n",
    "A=plt.imshow(Z_huge)\n",
    "plt.colorbar()\n",
    "plt.show()\n"
   ]
  },
  {
   "cell_type": "code",
   "execution_count": 22,
   "metadata": {},
   "outputs": [],
   "source": [
    "class JeuDeLaVie:\n",
    "    \n",
    "    def __init__(self, init_state, _time_T):\n",
    "        self.init_state = init_state\n",
    "        self._time_T = _time_T\n",
    "        self._dimension = (n_1, n_2) = init_state.shape\n",
    "        self._historic_state = np.zeros((n_1, n_2, _time_T+1))\n",
    "        self._historic_state[:, :, 0] = self.init_state\n",
    "        self.average_life = np.zeros((n_1, n_2))\n",
    "\n",
    "    def play(self):\n",
    "        t = 1\n",
    "        while (t <= self._time_T):\n",
    "            self._historic_state[:, :, t] = iteration_jeu_np(\n",
    "                self._historic_state[:, :, t-1])\n",
    "            self.average_life = np.mean(self._historic_state, axis=(2))\n",
    "            t = t + 1\n",
    "\n",
    "    def plot(self):\n",
    "        plt.figure()\n",
    "        plt.imshow(self.average_life)\n",
    "        plt.title(\"Temps de vie moyen de chaque cellule\")\n",
    "        plt.colorbar()"
   ]
  },
  {
   "cell_type": "code",
   "execution_count": 23,
   "metadata": {},
   "outputs": [
    {
     "data": {
      "image/png": "[encoded data removed]",
      "text/plain": [
       "<Figure size 432x288 with 2 Axes>"
      ]
     },
     "metadata": {
      "needs_background": "light"
     },
     "output_type": "display_data"
    }
   ],
   "source": [
    "Survie_Ma_matrice = JeuDeLaVie(np.array(Z_huge), 50)\n",
    "Survie_Ma_matrice.play()\n",
    "Survie_Ma_matrice.plot()\n"
   ]
  },
  {
   "cell_type": "code",
   "execution_count": 29,
   "metadata": {},
   "outputs": [
    {
     "ename": "IndentationError",
     "evalue": "unexpected indent (<ipython-input-29-5060d2dd649a>, line 5)",
     "output_type": "error",
     "traceback": [
      "\u001b[1;36m  File \u001b[1;32m\"<ipython-input-29-5060d2dd649a>\"\u001b[1;36m, line \u001b[1;32m5\u001b[0m\n\u001b[1;33m    return fig\u001b[0m\n\u001b[1;37m    ^\u001b[0m\n\u001b[1;31mIndentationError\u001b[0m\u001b[1;31m:\u001b[0m unexpected indent\n"
     ]
    }
   ],
   "source": [
    "fig = plt.imshow(Z_in)\n",
    "    \n",
    "def animate(nb_iters):\n",
    "    fig.set_data(jeu_np(np.array(Z_in), nb_iters))\n",
    "        return fig\n",
    "gif = animation.FuncAnimation(plt.figure(), animate, frames=nb_iter)\n",
    "return(gif)\n",
    "plt.show()\n",
    "\n",
    "\n",
    "mon_animation(Z_huge, 50)\n"
   ]
  },
  {
   "cell_type": "code",
   "execution_count": null,
   "metadata": {},
   "outputs": [],
   "source": []
  }
 ],
 "metadata": {
  "kernelspec": {
   "display_name": "Python 3",
   "language": "python",
   "name": "python3"
  },
  "language_info": {
   "codemirror_mode": {
    "name": "ipython",
    "version": 3
   },
   "file_extension": ".py",
   "mimetype": "text/x-python",
   "name": "python",
   "nbconvert_exporter": "python",
   "pygments_lexer": "ipython3",
   "version": "3.7.4"
  }
 },
 "nbformat": 4,
 "nbformat_minor": 2
}
